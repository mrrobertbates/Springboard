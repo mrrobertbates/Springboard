{
 "cells": [
  {
   "cell_type": "markdown",
   "metadata": {},
   "source": [
    "# What is the True Normal Human Body Temperature? \n",
    "\n",
    "#### Background\n",
    "\n",
    "The mean normal body temperature was held to be 37$^{\\circ}$C or 98.6$^{\\circ}$F for more than 120 years since it was first conceptualized and reported by Carl Wunderlich in a famous 1868 book. But, is this value statistically correct?"
   ]
  },
  {
   "cell_type": "markdown",
   "metadata": {},
   "source": [
    "<h3>Exercises</h3>\n",
    "\n",
    "<p>In this exercise, you will analyze a dataset of human body temperatures and employ the concepts of hypothesis testing, confidence intervals, and statistical significance.</p>\n",
    "\n",
    "<p>Answer the following questions <b>in this notebook below and submit to your Github account</b>.</p> \n",
    "\n",
    "<ol>\n",
    "<li>  Is the distribution of body temperatures normal? \n",
    "    <ul>\n",
    "    <li> Although this is not a requirement for the Central Limit Theorem to hold (read the introduction on Wikipedia's page about the CLT carefully: https://en.wikipedia.org/wiki/Central_limit_theorem), it gives us some peace of mind that the population may also be normally distributed if we assume that this sample is representative of the population.\n",
    "    <li> Think about the way you're going to check for the normality of the distribution. Graphical methods are usually used first, but there are also other ways: https://en.wikipedia.org/wiki/Normality_test\n",
    "    </ul>\n",
    "<li>  Is the sample size large? Are the observations independent?\n",
    "    <ul>\n",
    "    <li> Remember that this is a condition for the Central Limit Theorem, and hence the statistical tests we are using, to apply.\n",
    "    </ul>\n",
    "<li>  Is the true population mean really 98.6 degrees F?\n",
    "    <ul>\n",
    "    <li> First, try a bootstrap hypothesis test.\n",
    "    <li> Now, let's try frequentist statistical testing. Would you use a one-sample or two-sample test? Why?\n",
    "    <li> In this situation, is it appropriate to use the $t$ or $z$ statistic? \n",
    "    <li> Now try using the other test. How is the result be different? Why?\n",
    "    </ul>\n",
    "<li>  Draw a small sample of size 10 from the data and repeat both frequentist tests. \n",
    "    <ul>\n",
    "    <li> Which one is the correct one to use? \n",
    "    <li> What do you notice? What does this tell you about the difference in application of the $t$ and $z$ statistic?\n",
    "    </ul>\n",
    "<li>  At what temperature should we consider someone's temperature to be \"abnormal\"?\n",
    "    <ul>\n",
    "    <li> As in the previous example, try calculating everything using the boostrap approach, as well as the frequentist approach.\n",
    "    <li> Start by computing the margin of error and confidence interval. When calculating the confidence interval, keep in mind that you should use the appropriate formula for one draw, and not N draws.\n",
    "    </ul>\n",
    "<li>  Is there a significant difference between males and females in normal temperature?\n",
    "    <ul>\n",
    "    <li> What testing approach did you use and why?\n",
    "    <li> Write a story with your conclusion in the context of the original problem.\n",
    "    </ul>\n",
    "</ol>\n",
    "\n",
    "You can include written notes in notebook cells using Markdown: \n",
    "   - In the control panel at the top, choose Cell > Cell Type > Markdown\n",
    "   - Markdown syntax: http://nestacms.com/docs/creating-content/markdown-cheat-sheet\n",
    "\n",
    "#### Resources\n",
    "\n",
    "+ Information and data sources: http://www.amstat.org/publications/jse/datasets/normtemp.txt, http://www.amstat.org/publications/jse/jse_data_archive.htm\n",
    "+ Markdown syntax: http://nestacms.com/docs/creating-content/markdown-cheat-sheet\n",
    "\n",
    "****"
   ]
  },
  {
   "cell_type": "code",
   "execution_count": 1,
   "metadata": {},
   "outputs": [],
   "source": [
    "import pandas as pd\n",
    "import numpy as np\n",
    "import matplotlib.pyplot as plt\n",
    "\n",
    "df = pd.read_csv('human_body_temperature.csv')"
   ]
  },
  {
   "cell_type": "markdown",
   "metadata": {
    "collapsed": true
   },
   "source": [
    "### Is the distribution of body temperatures normal? \n",
    "    \n",
    "    Although this is not a requirement for the Central Limit Theorem to hold (read the introduction on Wikipedia's page about the CLT carefully: https://en.wikipedia.org/wiki/Central_limit_theorem), it gives us some peace of mind that the population may also be normally distributed if we assume that this sample is representative of the population.\n",
    "    \n",
    "    Think about the way you're going to check for the normality of the distribution. Graphical methods are usually used first, but there are also other ways: https://en.wikipedia.org/wiki/Normality_test"
   ]
  },
  {
   "cell_type": "code",
   "execution_count": 2,
   "metadata": {},
   "outputs": [],
   "source": [
    "def ecdf(data):\n",
    "    x = np.sort(data)\n",
    "    y = np.arange(1, len(x)+1)/len(x)\n",
    "    return x, y"
   ]
  },
  {
   "cell_type": "code",
   "execution_count": 3,
   "metadata": {},
   "outputs": [],
   "source": [
    "np.random.seed(13)\n",
    "x, y = ecdf(df.temperature)\n",
    "x_norm, y_norm = ecdf(np.random.normal(df.temperature.mean(), df.temperature.std(), 10000))"
   ]
  },
  {
   "cell_type": "code",
   "execution_count": 4,
   "metadata": {},
   "outputs": [
    {
     "data": {
      "image/png": "[encoded data removed]",
      "text/plain": [
       "<matplotlib.figure.Figure at 0xac3541cc>"
      ]
     },
     "metadata": {},
     "output_type": "display_data"
    }
   ],
   "source": [
    "plt.plot(x_norm, y_norm, marker='.', linestyle='none', color='red')\n",
    "plt.plot(x, y, marker='.', linestyle='none', color='blue')\n",
    "plt.ylabel('ECDF')\n",
    "plt.xlabel('Temperature')\n",
    "plt.show()"
   ]
  },
  {
   "cell_type": "markdown",
   "metadata": {},
   "source": [
    "Comparing the empirical cumulative distribution functions of the dataset with the theoretical ECDF of the normal distribution suggests that the data may be approximately normal.\n",
    "\n",
    "We can also apply a more analytical test, such as the Shapiro-Wilk test, to determine if it is reasonable to ascribe normality to the data.\n",
    "\n",
    "In the Shapiro-Wilk test normality of the data is taken to be the null hypothesis, and the test returns a w statistic and an alpha value to indicate significance."
   ]
  },
  {
   "cell_type": "code",
   "execution_count": 5,
   "metadata": {},
   "outputs": [],
   "source": [
    "from scipy.stats import shapiro"
   ]
  },
  {
   "cell_type": "code",
   "execution_count": 6,
   "metadata": {},
   "outputs": [
    {
     "name": "stdout",
     "output_type": "stream",
     "text": [
      "0.23318548500537872\n"
     ]
    }
   ],
   "source": [
    "w, p = shapiro(df.temperature.values)\n",
    "print(p)"
   ]
  },
  {
   "cell_type": "markdown",
   "metadata": {},
   "source": [
    "Based on this result we do not have sufficient evidence to reject the null hypothesis, that our data is normally distributed."
   ]
  },
  {
   "cell_type": "markdown",
   "metadata": {},
   "source": [
    "### 2. Is the sample size large?  Are the observations independent?\n",
    "\n",
    "    Is the sample size large? Are the observations independent?\n",
    "\n",
    "    Remember that this is a condition for the Central Limit Theorem, and hence the statistical tests we are using, to apply."
   ]
  },
  {
   "cell_type": "markdown",
   "metadata": {},
   "source": [
    "The sample size is large enough for the CLT to apply."
   ]
  },
  {
   "cell_type": "markdown",
   "metadata": {},
   "source": [
    "### 3. Is the true populations mean really 98.6 degrees F?\n",
    "\n",
    "\n",
    "    First, try a bootstrap hypothesis test.\n",
    "    \n",
    "    Now, let's try frequentist statistical testing. Would you use a one-sample or two-sample test? Why?\n",
    "    \n",
    "    In this situation, is it appropriate to use the t or z statistic? \n",
    "    \n",
    "    Now try using the other test. How is the result be different? Why?"
   ]
  },
  {
   "cell_type": "markdown",
   "metadata": {},
   "source": [
    "First, I will conduct a one-sample bootstrap hypothesis test with the null hypothesis being that 98.6 degress F is the true population mean.  A one-sample test is used because we are comparing one sample to a number.\n",
    "\n",
    "In order to execute this bootstrap hypothesis test I will first assume the null hypothesis by adjusting the data to have the mean, 98.6 degrees F.  I will then compute bootstrap replicants of the adjusted data and compute the relative frequency of the occurence of outcomes at least as extreme as the sample mean."
   ]
  },
  {
   "cell_type": "code",
   "execution_count": 7,
   "metadata": {},
   "outputs": [],
   "source": [
    "bootstrap_replicates = np.empty(1000)\n",
    "\n",
    "adjusted_data = df.temperature.values - df.temperature.mean() + 98.6\n",
    "\n",
    "for replicate in range(1000):\n",
    "    bootstrap_replicates[replicate] = np.mean(np.random.choice(adjusted_data, 1000))"
   ]
  },
  {
   "cell_type": "code",
   "execution_count": 8,
   "metadata": {},
   "outputs": [
    {
     "name": "stdout",
     "output_type": "stream",
     "text": [
      "p =  0.0\n"
     ]
    }
   ],
   "source": [
    "print('p = ', np.sum(bootstrap_replicates <= df.temperature.mean())/len(bootstrap_replicates))"
   ]
  },
  {
   "cell_type": "markdown",
   "metadata": {},
   "source": [
    "According to this result, it is highly unlikely that we would obtain a result at least as extreme as the sample mean.  Thus we should reject the null hypothesis."
   ]
  },
  {
   "cell_type": "markdown",
   "metadata": {},
   "source": [
    "We can also eschew bootstrap methods and adopt more traditional methods.  A one-sample test is needed because we are comparing one sample to a value.  Because the true standard deviation of the population is not known, we could use the t-statistic to perform the hypothesis test, but because our sample size is greater than 30 we can use the CLT and the z-statistic to perform the hypothesis test."
   ]
  },
  {
   "cell_type": "code",
   "execution_count": 9,
   "metadata": {},
   "outputs": [],
   "source": [
    "from scipy.stats import norm"
   ]
  },
  {
   "cell_type": "code",
   "execution_count": 10,
   "metadata": {},
   "outputs": [
    {
     "data": {
      "text/plain": [
       "2.4510785070536667e-08"
      ]
     },
     "execution_count": 10,
     "metadata": {},
     "output_type": "execute_result"
    }
   ],
   "source": [
    "x_bar = df.temperature.mean()\n",
    "s = df.temperature.std()\n",
    "n_root = np.sqrt(len(df.temperature))\n",
    "norm(0, 1).cdf((x_bar - 98.6)/(s/n_root))"
   ]
  },
  {
   "cell_type": "markdown",
   "metadata": {},
   "source": [
    "This result also suggests it is highly unlikely that we would obtain a result at least as extreme as the sample mean. Thus we should reject the null hypothesis."
   ]
  },
  {
   "cell_type": "code",
   "execution_count": 11,
   "metadata": {},
   "outputs": [],
   "source": [
    "from scipy.stats import t"
   ]
  },
  {
   "cell_type": "code",
   "execution_count": 12,
   "metadata": {},
   "outputs": [
    {
     "data": {
      "text/plain": [
       "1.2053160207792835e-07"
      ]
     },
     "execution_count": 12,
     "metadata": {},
     "output_type": "execute_result"
    }
   ],
   "source": [
    "t(len(df.temperature) - 1).cdf((x_bar - 98.6)/(s/n_root))"
   ]
  },
  {
   "cell_type": "markdown",
   "metadata": {},
   "source": [
    "This result also suggests it is highly unlikely that we would obtain a result at least as extreme as the sample mean. Thus we should reject the null hypothesis."
   ]
  },
  {
   "cell_type": "markdown",
   "metadata": {},
   "source": [
    "### 4. Draw a small sample of size 10 from the data and repeat both frequentist tests. \n",
    "\n",
    "    Which one is the correct one to use? \n",
    "    \n",
    "    What do you notice? What does this tell you about the difference in application of the t and z statistic?"
   ]
  },
  {
   "cell_type": "markdown",
   "metadata": {},
   "source": [
    "Given the small sample size one ought to use the t-statistic.  Below I will calculate the probability using the normal distribution, then the t distribution."
   ]
  },
  {
   "cell_type": "code",
   "execution_count": 19,
   "metadata": {},
   "outputs": [
    {
     "data": {
      "text/plain": [
       "2.015314660825488e-07"
      ]
     },
     "execution_count": 19,
     "metadata": {},
     "output_type": "execute_result"
    }
   ],
   "source": [
    "small_sample = np.random.choice(df.temperature.values, size=10)\n",
    "x_bar = np.mean(small_sample)\n",
    "s = np.std(small_sample)\n",
    "n_root = np.sqrt(len(small_sample))\n",
    "norm(0, 1).cdf((x_bar - 98.6)/(s/n_root))"
   ]
  },
  {
   "cell_type": "code",
   "execution_count": 20,
   "metadata": {},
   "outputs": [
    {
     "data": {
      "text/plain": [
       "6.823119486658225e-07"
      ]
     },
     "execution_count": 20,
     "metadata": {},
     "output_type": "execute_result"
    }
   ],
   "source": [
    "t(len(df.temperature) - 1).cdf((x_bar - 98.6)/(s/n_root))"
   ]
  },
  {
   "cell_type": "markdown",
   "metadata": {},
   "source": [
    "Both of these estimates are pretty aweful.  In theory the t distribution (t-test) should be used."
   ]
  },
  {
   "cell_type": "markdown",
   "metadata": {},
   "source": [
    "### 5. At what temperature should we consider someone's temperature to be \"abnormal\"?\n",
    "\n",
    "    As in the previous example, try calculating everything using the boostrap approach, as well as the frequentist approach.\n",
    "    \n",
    "    Start by computing the margin of error and confidence interval. When calculating the confidence interval, keep in mind that you should use the appropriate formula for one draw, and not N draws."
   ]
  },
  {
   "cell_type": "markdown",
   "metadata": {},
   "source": [
    "Let's assume we desire a 95% confidence interval.\n",
    "\n",
    "I will take the bootstrap approach to this calculation below."
   ]
  },
  {
   "cell_type": "code",
   "execution_count": 63,
   "metadata": {},
   "outputs": [
    {
     "name": "stdout",
     "output_type": "stream",
     "text": [
      "The margin of error is 0.12603434104911745.\n"
     ]
    }
   ],
   "source": [
    "moa = norm(0,1).isf(0.025) * (df.temperature.std()/np.sqrt(len(df.temperature)))\n",
    "print(f\"The margin of error is {moa}.\")"
   ]
  },
  {
   "cell_type": "code",
   "execution_count": 21,
   "metadata": {},
   "outputs": [],
   "source": [
    "replicates = np.empty(1000)\n",
    "\n",
    "for each in range(0,1000):\n",
    "    replicates[each] = np.mean(np.random.choice(df.temperature.values, size=len(df.temperature.values)))"
   ]
  },
  {
   "cell_type": "code",
   "execution_count": 22,
   "metadata": {},
   "outputs": [
    {
     "data": {
      "text/plain": [
       "array([98.12536538, 98.36769231])"
      ]
     },
     "execution_count": 22,
     "metadata": {},
     "output_type": "execute_result"
    }
   ],
   "source": [
    "np.percentile(replicates, [2.5, 97.5])"
   ]
  },
  {
   "cell_type": "markdown",
   "metadata": {},
   "source": [
    "According to the confidence interval computed above a temperature below 98.1 or above 98.4 should be considered \"abnormal\".\n",
    "\n",
    "Now we shall take a more traditional approach below.  The sample size ought to be large enough to assume a normal distribution for the mean.  The confidence interval is given by the formula below.\n",
    "\n",
    "$( \\bar{x_n} - z_{\\alpha/2} \\frac{s_n}{\\sqrt{n}},\\hspace{0.2cm} \\bar{x_n} + z_{\\alpha/2} \\frac{s_n}{\\sqrt{n}} )$"
   ]
  },
  {
   "cell_type": "code",
   "execution_count": 23,
   "metadata": {},
   "outputs": [],
   "source": [
    "import scipy.stats as stats"
   ]
  },
  {
   "cell_type": "code",
   "execution_count": 35,
   "metadata": {},
   "outputs": [],
   "source": [
    "critical_z = norm(0, 1).isf(0.025)"
   ]
  },
  {
   "cell_type": "code",
   "execution_count": 36,
   "metadata": {},
   "outputs": [
    {
     "name": "stdout",
     "output_type": "stream",
     "text": [
      "The confidence interval is (97.96208535562658, 98.31791464437342).\n"
     ]
    }
   ],
   "source": [
    "left = x_bar - critical_z * (s/n_root)\n",
    "right = x_bar + critical_z * (s/n_root)\n",
    "print(f\"The confidence interval is ({left}, {right}).\")"
   ]
  },
  {
   "cell_type": "markdown",
   "metadata": {},
   "source": [
    "### 6. Is there a significant difference between males and females in normal temperature?\n",
    "\n",
    "    What testing approach did you use and why?\n",
    "\n",
    "    Write a story with your conclusion in the context of the original problem."
   ]
  },
  {
   "cell_type": "code",
   "execution_count": 32,
   "metadata": {},
   "outputs": [],
   "source": [
    "males = df.loc[df.gender == 'M']\n",
    "females = df.loc[df.gender == 'F']"
   ]
  },
  {
   "cell_type": "code",
   "execution_count": 37,
   "metadata": {},
   "outputs": [
    {
     "name": "stdout",
     "output_type": "stream",
     "text": [
      "The average temperatures for males and females are 98.10461538461539 and 98.39384615384616, respectively\n"
     ]
    }
   ],
   "source": [
    "print(f\"The average temperatures for males and females are {males.temperature.mean()} and {females.temperature.mean()}, respectively\")"
   ]
  },
  {
   "cell_type": "code",
   "execution_count": 41,
   "metadata": {},
   "outputs": [
    {
     "name": "stdout",
     "output_type": "stream",
     "text": [
      "The standard deviation of temperatures for males and females are 0.698755762326591 and 0.7434877527313665, respectively\n"
     ]
    }
   ],
   "source": [
    "print(f\"The standard deviation of temperatures for males and females are {males.temperature.std()} and {females.temperature.std()}, respectively\")"
   ]
  },
  {
   "cell_type": "markdown",
   "metadata": {},
   "source": [
    "The average temperature of both males and females are within one standard deviation of eachother, regardless of which standard deviation you choose (male or female).  This suggests there is not a significant difference in the normal temperature of men and women.\n",
    "\n",
    "But is what little difference there is statistically significant?  I will perform a 2-sample bootstrap significance test below to determine the statistical dignificance of the difference in mean body temperature of men and women."
   ]
  },
  {
   "cell_type": "code",
   "execution_count": 55,
   "metadata": {},
   "outputs": [],
   "source": [
    "bs_men = np.empty(10000)\n",
    "bs_women = np.empty(10000)\n",
    "\n",
    "men_shifted = (males.temperature.values - males.temperature.mean())/males.temperature.std()\n",
    "women_shifted = (females.temperature.values - females.temperature.mean())/females.temperature.std()\n",
    "\n",
    "for each in range(0, 10000):\n",
    "    bs_men[each] = np.mean(np.random.choice(men_shifted, size=len(men_shifted)))\n",
    "    bs_women[each] = np.mean(np.random.choice(women_shifted, size=len(women_shifted)))\n",
    "\n",
    "diff = females.temperature.mean() - males.temperature.mean()\n",
    "differences = bs_women - bs_men"
   ]
  },
  {
   "cell_type": "code",
   "execution_count": 56,
   "metadata": {},
   "outputs": [
    {
     "name": "stdout",
     "output_type": "stream",
     "text": [
      "p = 0.0486\n"
     ]
    }
   ],
   "source": [
    "print(f\"p = {np.sum(differences >= diff) / len(differences)}\")"
   ]
  },
  {
   "cell_type": "markdown",
   "metadata": {},
   "source": [
    "The p-value obtained above is somewhat marginal, since 5% is regarded by many as the cut-off for statistical significance.  Still, this result indicates there is about a 5% chance of obtaining the observed difference in mean body temperature, assuming that the mean difference is zero (the null hypothesis).  I regard this as statistically insignificant and conclude that the difference between men and women, in terms of body temperature, is not significant."
   ]
  },
  {
   "cell_type": "code",
   "execution_count": null,
   "metadata": {},
   "outputs": [],
   "source": []
  }
 ],
 "metadata": {
  "kernelspec": {
   "display_name": "Python 3",
   "language": "python",
   "name": "python3"
  },
  "language_info": {
   "codemirror_mode": {
    "name": "ipython",
    "version": 3
   },
   "file_extension": ".py",
   "mimetype": "text/x-python",
   "name": "python",
   "nbconvert_exporter": "python",
   "pygments_lexer": "ipython3",
   "version": "3.6.7"
  }
 },
 "nbformat": 4,
 "nbformat_minor": 1
}
